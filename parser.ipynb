{
 "cells": [
  {
   "cell_type": "code",
   "execution_count": 9,
   "metadata": {},
   "outputs": [],
   "source": [
    "from tqdm import tqdm\n",
    "import requests\n",
    "from bs4 import BeautifulSoup\n",
    "\n",
    "\n",
    "def prettify(text):\n",
    "  # удалить строки где есть слова \"куплет / припев\"\n",
    "  text = text.split(\"\\n\")\n",
    "  # удалить пустые строки\n",
    "  text = [i.strip() for i in text if i]\n",
    "  bad_words = [\"куплет\", \"припев\", \"[\", \"]\"]\n",
    "  text = [i for i in text if not any(j in i.lower() for j in bad_words)]\n",
    "  text = \"\\n\".join(text)\n",
    "  return text\n",
    "\n",
    "def get_songs_pesni_net(artist_name):\n",
    "    url = \"https://www.pesni.net/text/\" + artist_name\n",
    "    basename = \"https://www.pesni.net\"\n",
    "\n",
    "    r = requests.get(url)\n",
    "    soup = BeautifulSoup(r.text, \"html.parser\")\n",
    "\n",
    "    # получаем все песни\n",
    "    text = soup.find(\"div\", {\"class\": \"textcontent\"})\n",
    "    links = text.find_all(\"a\")\n",
    "\n",
    "    # получаем ссылки на песни\n",
    "    songs = []\n",
    "\n",
    "    for link in links:\n",
    "        if artist_name in link.get(\"href\"):\n",
    "            songs.append(\n",
    "                {\n",
    "                    \"name\": link.text,\n",
    "                    \"url\": basename + link.get(\"href\"),\n",
    "                    \"text\": \"\",\n",
    "                }\n",
    "            )\n",
    "\n",
    "    for song in tqdm(songs):\n",
    "        r = requests.get(song[\"url\"])\n",
    "        soup = BeautifulSoup(r.text, \"html.parser\")\n",
    "        # получаем текст песни\n",
    "        text = soup.find(\"div\", {\"class\": \"song-block-text\"})\n",
    "        # форматируем текст\n",
    "        song[\"text\"] = prettify(text.get_text(separator=\"\\n\"))\n",
    "        # tqdm.write(f'\"{song[\"name\"]}\" загружена!')\n",
    "\n",
    "    return songs\n",
    "\n",
    "\n",
    "def get_songs_altwall_net(artist_name):\n",
    "    url = \"https://altwall.net/texts.php?show=\" + artist_name\n",
    "    basename = \"https://altwall.net\"\n",
    "\n",
    "    from selenium import webdriver\n",
    "    browser = webdriver.Chrome()\n",
    "    browser.get(url)\n",
    "\n",
    "    soup = BeautifulSoup(browser.page_source,\n",
    "                         \"html.parser\", from_encoding=\"utf-8\")\n",
    "    # получаем таблицу с песнями\n",
    "    tbody = soup.find(\"tbody\").find_all(\"a\")\n",
    "\n",
    "    # получаем ссылки на песни\n",
    "    songs = []\n",
    "    for link in tbody:\n",
    "        if artist_name in link.get(\"href\"):\n",
    "            songs.append(\n",
    "                {\n",
    "                    \"name\": link.text,\n",
    "                    \"url\": basename + link.get(\"href\"),\n",
    "                    \"text\": \"\",\n",
    "                }\n",
    "            )\n",
    "\n",
    "    for song in tqdm(songs):\n",
    "        browser.get(song[\"url\"])\n",
    "        soup = BeautifulSoup(browser.page_source,\n",
    "                             \"html.parser\", from_encoding=\"utf-8\")\n",
    "        # получаем текст песни\n",
    "        text = soup.find(\"article\", {\"id\": \"main_text_div\"})\n",
    "        # форматируем текст\n",
    "        song[\"text\"] = prettify(text.get_text(separator=\"\\n\"))\n",
    "        # tqdm.write(f'\"{song[\"name\"]}\" загружена!')\n",
    "\n",
    "    return songs"
   ]
  },
  {
   "cell_type": "code",
   "execution_count": 10,
   "metadata": {},
   "outputs": [],
   "source": [
    "artists = [\n",
    "  {\n",
    "    \"name\": \"Orange House\",\n",
    "    \"id\": \"orangehouse\",\n",
    "    \"source\": \"https://altwall.net\",\n",
    "    \"value\": 3\n",
    "  },\n",
    "  {\n",
    "    \"name\": \"Операция Пластилин\",\n",
    "    \"id\": \"Operatsiya-Plastilin\",\n",
    "    \"source\": \"https://www.pesni.net\",\n",
    "    \"value\": 3\n",
    "  },\n",
    "  {\n",
    "    \"name\": \"Адаптация Пчёл\",\n",
    "    \"id\": \"Adaptatsiya-Pchyol\",\n",
    "    \"source\": \"https://www.pesni.net\",\n",
    "    \"value\": 5\n",
    "  },\n",
    "  {\n",
    "    \"name\": \"Аффинаж\",\n",
    "    \"id\": \"Affinazh\",\n",
    "    \"source\": \"https://www.pesni.net\",\n",
    "    \"value\": 1\n",
    "  },\n",
    "  {\n",
    "    \"name\": \"Комсомольск\",\n",
    "    \"id\": \"Komsomolsk\",\n",
    "    \"source\": \"https://www.pesni.net\",\n",
    "    \"value\": 1\n",
    "  },\n",
    "  {\n",
    "    \"name\": \"7 Раса\",\n",
    "    \"id\": \"7Rasa\",\n",
    "    \"source\": \"https://www.pesni.net\",\n",
    "    \"value\": 1\n",
    "  },\n",
    "  {\n",
    "    \"name\": \"Самое большое простое число\",\n",
    "    \"id\": \"Samoe-bolshoe-prostoe-chislo\",\n",
    "    \"source\": \"https://www.pesni.net\",\n",
    "    \"value\": 1\n",
    "  },\n",
    "  {\n",
    "    \"name\": \"Lumen\",\n",
    "    \"id\": \"Lumen\",\n",
    "    \"source\": \"https://www.pesni.net\",\n",
    "    \"value\": 1\n",
    "  }\n",
    "]  "
   ]
  },
  {
   "cell_type": "code",
   "execution_count": 53,
   "metadata": {},
   "outputs": [],
   "source": [
    "values = [i[\"value\"] for i in artists]\n",
    "values = [1, 3, 7, 1, 1, 1, 1, 1]"
   ]
  },
  {
   "cell_type": "code",
   "execution_count": 11,
   "metadata": {},
   "outputs": [
    {
     "name": "stderr",
     "output_type": "stream",
     "text": [
      "d:\\Python\\lib\\site-packages\\bs4\\__init__.py:226: UserWarning: You provided Unicode markup but also provided a value for from_encoding. Your from_encoding will be ignored.\n",
      "  warnings.warn(\"You provided Unicode markup but also provided a value for from_encoding. Your from_encoding will be ignored.\")\n",
      "100%|██████████| 39/39 [00:16<00:00,  2.43it/s]\n",
      "100%|██████████| 26/26 [00:04<00:00,  5.83it/s]\n",
      "100%|██████████| 34/34 [00:07<00:00,  4.30it/s]\n",
      "100%|██████████| 12/12 [00:02<00:00,  5.87it/s]\n",
      "100%|██████████| 8/8 [00:02<00:00,  2.90it/s]\n",
      "100%|██████████| 6/6 [00:01<00:00,  5.03it/s]\n",
      "100%|██████████| 12/12 [00:02<00:00,  5.95it/s]\n",
      "100%|██████████| 130/130 [00:28<00:00,  4.55it/s]\n"
     ]
    }
   ],
   "source": [
    "# загружаем песни всех исполнителей\n",
    "\n",
    "for artist in artists:\n",
    "    match artist[\"source\"]:\n",
    "        case \"https://www.pesni.net\":\n",
    "            songs = get_songs_pesni_net(artist[\"id\"])\n",
    "            artist[\"songs\"] = songs\n",
    "        case \"https://altwall.net\":\n",
    "            songs = get_songs_altwall_net(artist[\"id\"])\n",
    "            artist[\"songs\"] = songs\n",
    "        case _:\n",
    "            print(artist[\"name\"], \"- неизвестный источник\")\n",
    "            artist[\"songs\"] = []\n",
    "            continue"
   ]
  },
  {
   "attachments": {},
   "cell_type": "markdown",
   "metadata": {},
   "source": [
    "### Опционально - сохраняем тексты"
   ]
  },
  {
   "cell_type": "code",
   "execution_count": 4,
   "metadata": {},
   "outputs": [],
   "source": [
    "# сохраняем песни всех исполнителей в файлы\n",
    "\n",
    "for artist in artists:\n",
    "    folder = \"songs/\"\n",
    "    filename = artist[\"name\"] + \".txt\"\n",
    "    with open(folder + filename, \"w\", encoding=\"utf-8\") as f:\n",
    "        for song in artist[\"songs\"]:\n",
    "            f.write(song[\"text\"])"
   ]
  },
  {
   "cell_type": "code",
   "execution_count": 5,
   "metadata": {},
   "outputs": [],
   "source": [
    "# write all songs to file\n",
    "\n",
    "with open(\"songs.txt\", \"w\", encoding=\"utf-8\") as f:\n",
    "    for artist in artists:\n",
    "        for song in artist[\"songs\"]:\n",
    "            f.write(song[\"text\"])"
   ]
  },
  {
   "attachments": {},
   "cell_type": "markdown",
   "metadata": {},
   "source": [
    "# Markovify"
   ]
  },
  {
   "cell_type": "code",
   "execution_count": null,
   "metadata": {},
   "outputs": [],
   "source": [
    "%pip install markovify"
   ]
  },
  {
   "cell_type": "code",
   "execution_count": 18,
   "metadata": {},
   "outputs": [],
   "source": [
    "import markovify\n",
    "\n",
    "chains = []\n",
    "for artist in artists:\n",
    "    text = \"\\n\".join([song[\"text\"] for song in artist[\"songs\"]])\n",
    "    chains.append(\n",
    "        {\n",
    "            \"value\": artist[\"value\"],\n",
    "            \"chain\": markovify.Text(text, state_size=2),\n",
    "        }\n",
    "    )"
   ]
  },
  {
   "cell_type": "code",
   "execution_count": 24,
   "metadata": {},
   "outputs": [],
   "source": [
    "model = markovify.combine([i[\"chain\"] for i in chains], [i[\"value\"] for i in chains])"
   ]
  },
  {
   "cell_type": "code",
   "execution_count": 22,
   "metadata": {},
   "outputs": [],
   "source": [
    "generated_texts = set()\n",
    "while len(generated_texts) < 1000:\n",
    "    text = model.make_sentence()\n",
    "    if text:\n",
    "        generated_texts.add(text)"
   ]
  },
  {
   "cell_type": "code",
   "execution_count": 26,
   "metadata": {},
   "outputs": [],
   "source": [
    "with open(\"generated.txt\", \"w\", encoding=\"utf-8\") as f:\n",
    "    for text in generated_texts:\n",
    "        f.write(text + \"\\n\\n\")"
   ]
  },
  {
   "cell_type": "code",
   "execution_count": null,
   "metadata": {},
   "outputs": [],
   "source": [
    "for text in generated_texts:\n",
    "    print(text, end=\"\\n\\n\")"
   ]
  }
 ],
 "metadata": {
  "kernelspec": {
   "display_name": "Python 3",
   "language": "python",
   "name": "python3"
  },
  "language_info": {
   "codemirror_mode": {
    "name": "ipython",
    "version": 3
   },
   "file_extension": ".py",
   "mimetype": "text/x-python",
   "name": "python",
   "nbconvert_exporter": "python",
   "pygments_lexer": "ipython3",
   "version": "3.10.5"
  },
  "orig_nbformat": 4,
  "vscode": {
   "interpreter": {
    "hash": "2469a70536e4d2335a2ea8907942d0699c37342a371ac185bdb5b0aa6f073890"
   }
  }
 },
 "nbformat": 4,
 "nbformat_minor": 2
}
